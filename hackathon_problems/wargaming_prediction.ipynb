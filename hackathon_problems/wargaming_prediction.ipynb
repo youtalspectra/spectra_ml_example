{
 "cells": [
  {
   "cell_type": "markdown",
   "id": "6f46ad6a",
   "metadata": {},
   "source": [
    "# Success Prediction: Wargaming"
   ]
  },
  {
   "cell_type": "markdown",
   "id": "723d4b88",
   "metadata": {},
   "source": [
    "## <span style=\"color:red\">Problem</span>\n",
    "\n",
    "An army is simulating multiple engagement scenarios and wants to know the probability of winning a scenario based on how well their units are performing against enemy units at any time during the scenario. Using the given wargaming dataset, your goal is to build a model that can predict the winning probability of a scenario at its current state. \n"
   ]
  },
  {
   "cell_type": "markdown",
   "id": "15be76ff",
   "metadata": {},
   "source": [
    "## <span style=\"color:red\">Data</span>\n",
    "\n",
    "In order to build an AI that can answer this need, we provide a simulated dataset of multiple wargaming scenarios. The scenarios are generated from different initial parameters (amount of initial friendly and opposing units, technological advantage) and the final outcome of each scenario (win or lose) is determined after a series of engagements.\n",
    "\n",
    "\n",
    "### <span style=\"color:blue\">Features</span>\n",
    "\n",
    "- **time**: time point at which the scenario current parameters are calculated (numeric)\n",
    "\n",
    "\n",
    "- **friendly_start**: number of friendly units at the beginning of the scenario (numeric)\n",
    "\n",
    "\n",
    "- **enemy_start**: number of enemy units at the beginning of the scenario (numeric)\n",
    "\n",
    "\n",
    "- **tech_advantage**: indicator of how more or less technologically advanced the friendly side is, from -5 (strongly disadvantaged) to 5 (strongly advantaged) (numeric)\n",
    "\n",
    "\n",
    "- **strength_ratio**: the ratio of friendly/enemy units at the current time (numeric)\n",
    "\n",
    "\n",
    "- **survival_rate**: percentage of friendly units still active for combat at the current time (numeric)\n",
    "\n",
    "\n",
    "- **engagement_performance**: performance indicator of the friendly side at the current time (numeric)\n",
    "\n",
    "\n",
    "### <span style=\"color:blue\">Target variable</span>\n",
    "\n",
    "- **final_outcome**: Was the scenario successful ?  binary: 1 (yes), 0 (no))\n",
    "\n",
    "### <span style=\"color:blue\">Train/Test sets</span>\n",
    "\n",
    "The train set contains 10000 rows with scenario parameters at random time points and their final outcome. The test set itself contains 1000 data points."
   ]
  },
  {
   "cell_type": "markdown",
   "id": "8124f48b",
   "metadata": {},
   "source": [
    "## <span style=\"color:red\">Before starting</span>"
   ]
  },
  {
   "cell_type": "markdown",
   "id": "14be4535",
   "metadata": {},
   "source": [
    "Given the problem and data:\n",
    "- Which machine learning approach do you think would be most suited between classification and regression ?\n",
    "- What is the range of values your model should be able to return ?\n",
    "\n",
    "Answer in the below cell"
   ]
  },
  {
   "cell_type": "markdown",
   "id": "bed9c901",
   "metadata": {},
   "source": []
  },
  {
   "cell_type": "markdown",
   "id": "bf95e057",
   "metadata": {},
   "source": [
    "## <span style=\"color:red\">Coding starts here</span>"
   ]
  },
  {
   "cell_type": "markdown",
   "id": "d032567a",
   "metadata": {},
   "source": [
    "### Import packages"
   ]
  },
  {
   "cell_type": "code",
   "execution_count": null,
   "id": "4152edea",
   "metadata": {},
   "outputs": [],
   "source": [
    "import pandas as pd\n",
    "import sklearn\n",
    "import seaborn"
   ]
  },
  {
   "cell_type": "markdown",
   "id": "33c97da4",
   "metadata": {},
   "source": [
    "**Import Training Data**"
   ]
  },
  {
   "cell_type": "code",
   "execution_count": null,
   "id": "dfdf085a",
   "metadata": {},
   "outputs": [],
   "source": [
    "train_data = pd.read_csv('https://github.com/youtalspectra/spectra_ml_example/raw/master/data/wargaming_train.csv')"
   ]
  },
  {
   "cell_type": "markdown",
   "id": "85c3f223",
   "metadata": {},
   "source": [
    "## Exploratory Data Analysis\n",
    "\n",
    "Explore, pre-process and/or clean the data here."
   ]
  },
  {
   "cell_type": "code",
   "execution_count": null,
   "id": "cd0b012d",
   "metadata": {},
   "outputs": [],
   "source": []
  },
  {
   "cell_type": "markdown",
   "id": "0c218e95",
   "metadata": {},
   "source": [
    "## Model fitting\n",
    "\n",
    "Fit and optmize your model here."
   ]
  },
  {
   "cell_type": "code",
   "execution_count": null,
   "id": "92e50df7",
   "metadata": {},
   "outputs": [],
   "source": []
  },
  {
   "cell_type": "markdown",
   "id": "b56c68f9",
   "metadata": {},
   "source": [
    "## Predictions\n",
    "\n",
    "Make predictions on the following test set and get the model score here. Remember to apply the same pre-processing to the test set as done on the test set !"
   ]
  },
  {
   "cell_type": "code",
   "execution_count": null,
   "id": "544bab45",
   "metadata": {},
   "outputs": [],
   "source": [
    "test_data = pd.read_csv('https://github.com/youtalspectra/spectra_ml_example/raw/master/data/wargaming_test_1000.csv')"
   ]
  },
  {
   "cell_type": "code",
   "execution_count": null,
   "id": "c2862a88",
   "metadata": {},
   "outputs": [],
   "source": []
  }
 ],
 "metadata": {
  "kernelspec": {
   "display_name": "Python 3",
   "language": "python",
   "name": "python3"
  },
  "language_info": {
   "codemirror_mode": {
    "name": "ipython",
    "version": 3
   },
   "file_extension": ".py",
   "mimetype": "text/x-python",
   "name": "python",
   "nbconvert_exporter": "python",
   "pygments_lexer": "ipython3",
   "version": "3.6.13"
  }
 },
 "nbformat": 4,
 "nbformat_minor": 5
}
