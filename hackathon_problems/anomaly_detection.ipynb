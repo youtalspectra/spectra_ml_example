{
 "cells": [
  {
   "cell_type": "markdown",
   "id": "6f46ad6a",
   "metadata": {},
   "source": [
    "# Anomaly detection: Bank Marketing"
   ]
  },
  {
   "cell_type": "markdown",
   "id": "723d4b88",
   "metadata": {},
   "source": [
    "## <span style=\"color:red\">Problem</span>\n",
    "\n",
    "Using the given marketing dataset, build a model that can detect which marketing campaigns would trigger a successful outcome from a client.\n"
   ]
  },
  {
   "cell_type": "markdown",
   "id": "15be76ff",
   "metadata": {},
   "source": [
    "## <span style=\"color:red\">Data</span>\n",
    "\n",
    "**Original data source**: *S. Moro, P. Cortez and P. Rita. A Data-Driven Approach to Predict the Success of Bank Telemarketing. Decision Support Systems, Elsevier, 62:22-31, June 2014*\n",
    "\n",
    "**Pre-processed data source**: *Pang, Guansong, Chunhua Shen, and Anton van den Hengel. \"Deep anomaly detection with deviation networks.\" In Proceedings of the 25th ACM SIGKDD international conference on knowledge discovery & data mining, pp. 353-362. 2019.*\n",
    "\n",
    "The campaign data is a data set of direct marketing campaigns of a Portuguese banking institution via phone calls, in which the rarely successful campaigning records, accounting for about 10% records, are considered as anomalies. Often, more than one contact to the same client was required, in order to access if the product (bank term deposit) would be subscribed or not.\n",
    "\n",
    "\n",
    "### <span style=\"color:blue\">Features</span>\n",
    "\n",
    "The original dataset has been pre-processed to transform all the following categorical variables into binary variables per category (also known as one-hot encoding) and the numerical variables like age variable have been normalized.\n",
    "\n",
    "#### Bank client data\n",
    "\n",
    "1 - age (numeric)\n",
    "\n",
    "2 - job : type of job (categorical: 'admin.','blue-collar','entrepreneur','housemaid','management','retired','self-employed','services','student','technician','unemployed','unknown')\n",
    "\n",
    "3 - marital : marital status (categorical: 'divorced','married','single','unknown'; note: 'divorced' means divorced or widowed)\n",
    "\n",
    "4 - education (categorical: 'basic.4y','basic.6y','basic.9y','high.school','illiterate','professional.course','university.degree','unknown')\n",
    "\n",
    "5 - default: has credit in default? (categorical: 'no','yes','unknown')\n",
    "\n",
    "6 - housing: has housing loan? (categorical: 'no','yes','unknown')\n",
    "\n",
    "7 - loan: has personal loan? (categorical: 'no','yes','unknown')\n",
    "\n",
    "#### Last contact of the current campaign\n",
    "\n",
    "8 - contact: contact communication type (categorical: 'cellular','telephone')\n",
    "\n",
    "9 - month: last contact month of year (categorical: 'jan', 'feb', 'mar', ..., 'nov', 'dec')\n",
    "\n",
    "10 - day_of_week: last contact day of the week (categorical: 'mon','tue','wed','thu','fri')\n",
    "\n",
    "11 - duration: last contact duration, in seconds (numeric). Important note: this attribute highly affects the output target (e.g., if duration=0 then y='no'). Yet, the duration is not known before a call is performed. Also, after the end of the call y is obviously known. Thus, this input should only be included for benchmark purposes and should be discarded if the intention is to have a realistic predictive model.\n",
    "\n",
    "#### Other attributes\n",
    "\n",
    "12 - campaign: number of contacts performed during this campaign and for this client (numeric, includes last contact)\n",
    "\n",
    "13 - pdays: number of days that passed by after the client was last contacted from a previous campaign (numeric; 999 means client was not previously contacted)\n",
    "\n",
    "14 - previous: number of contacts performed before this campaign and for this client (numeric)\n",
    "\n",
    "15 - poutcome: outcome of the previous marketing campaign (categorical: 'failure','nonexistent','success')\n",
    "\n",
    "#### social and economic context attributes\n",
    "\n",
    "16 - emp.var.rate: employment variation rate - quarterly indicator (numeric)\n",
    "\n",
    "17 - cons.price.idx: consumer price index - monthly indicator (numeric)\n",
    "\n",
    "18 - cons.conf.idx: consumer confidence index - monthly indicator (numeric)\n",
    "\n",
    "19 - euribor3m: euribor 3 month rate - daily indicator (numeric)\n",
    "\n",
    "20 - nr.employed: number of employees - quarterly indicator (numeric)\n",
    "\n",
    "#### Output variable (desired target)\n",
    "\n",
    "21 - class - has the client subscribed a term deposit? (binary: 1,0 )\n",
    "\n",
    "\n",
    "### <span style=\"color:blue\">Train/Test sets</span>\n",
    "\n",
    "The train set contains 80% of the original data and the test set contains 1000 records, both sets have roughly the same rate of anomalies (i.e. successful marketing campaigns)."
   ]
  },
  {
   "cell_type": "markdown",
   "id": "ffb02e2b",
   "metadata": {},
   "source": [
    "### Import packages"
   ]
  },
  {
   "cell_type": "code",
   "execution_count": null,
   "id": "3a815db0",
   "metadata": {},
   "outputs": [],
   "source": [
    "import pandas as pd\n",
    "import sklearn\n",
    "import seaborn"
   ]
  },
  {
   "cell_type": "markdown",
   "id": "dd3d3605",
   "metadata": {},
   "source": [
    "**Import Training Data**"
   ]
  },
  {
   "cell_type": "code",
   "execution_count": null,
   "id": "ec6de73c",
   "metadata": {},
   "outputs": [],
   "source": [
    "train_data = pd.read_csv('../data/anomaly_train.csv.csv')"
   ]
  },
  {
   "cell_type": "markdown",
   "id": "85c3f223",
   "metadata": {},
   "source": [
    "## Exploratory Data Analysis\n",
    "\n",
    "Explore, pre-process and/or clean the data here."
   ]
  },
  {
   "cell_type": "code",
   "execution_count": null,
   "id": "84f981e6",
   "metadata": {},
   "outputs": [],
   "source": []
  },
  {
   "cell_type": "markdown",
   "id": "0c218e95",
   "metadata": {},
   "source": [
    "## Model fitting\n",
    "\n",
    "Fit and optmize your model here."
   ]
  },
  {
   "cell_type": "code",
   "execution_count": null,
   "id": "afb08529",
   "metadata": {},
   "outputs": [],
   "source": []
  },
  {
   "cell_type": "markdown",
   "id": "b56c68f9",
   "metadata": {},
   "source": [
    "## Predictions\n",
    "\n",
    "Make predictions on the following test set and get the model score here. Remember to apply the same pre-processing to the test set as done on the test set !"
   ]
  },
  {
   "cell_type": "code",
   "execution_count": null,
   "id": "544bab45",
   "metadata": {},
   "outputs": [],
   "source": [
    "test_data = pd.read_csv('../data/anomaly_test_1000.csv.csv')"
   ]
  }
 ],
 "metadata": {
  "kernelspec": {
   "display_name": "Python 3",
   "language": "python",
   "name": "python3"
  },
  "language_info": {
   "codemirror_mode": {
    "name": "ipython",
    "version": 3
   },
   "file_extension": ".py",
   "mimetype": "text/x-python",
   "name": "python",
   "nbconvert_exporter": "python",
   "pygments_lexer": "ipython3",
   "version": "3.6.13"
  }
 },
 "nbformat": 4,
 "nbformat_minor": 5
}
