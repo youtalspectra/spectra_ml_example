{
 "cells": [
  {
   "cell_type": "markdown",
   "id": "6f46ad6a",
   "metadata": {},
   "source": [
    "# Occupancy prediction"
   ]
  },
  {
   "cell_type": "markdown",
   "id": "723d4b88",
   "metadata": {},
   "source": [
    "## <span style=\"color:red\">Problem</span>\n",
    "\n",
    "Given the following hotel occupancy data, build a model that can predict how many people will come and occupy a room on given day and hour (intraday booking) as well as other parameters described below. \n"
   ]
  },
  {
   "cell_type": "markdown",
   "id": "15be76ff",
   "metadata": {},
   "source": [
    "## <span style=\"color:red\">Data</span>\n",
    "\n",
    "The data consists in same day bookings for a hotel, that is how many people arrived within a given date and hour to get a room. It has current occupancy and price data from the hotel as well as external event data that could affect intraday occupancy (events, nearby airport data, weather).\n",
    "\n",
    "\n",
    "### <span style=\"color:blue\">Features</span>\n",
    "\n",
    "#### Time variables\n",
    "\n",
    "- date: date of occupancy\n",
    "\n",
    "\n",
    "- hour: hour of occupancy (0 to 23)\n",
    "\n",
    "\n",
    "- last_hour: 0 if before 11pm, 1 between 11pm and 12am (binary: 1 (yes), 0 (no))\n",
    "\n",
    "\n",
    "\n",
    "#### Hotel variables \n",
    "\n",
    "- start_available: number of rooms available at the start of each date (numeric)\n",
    "\n",
    "\n",
    "- price: average room price (numeric)\n",
    "\n",
    "\n",
    "- occupied_start: number of rooms already occupied at the start of each date (numeric)\n",
    "\n",
    " \n",
    "- otb_today_hour: \"on the books': number of new rooms that have been occupied so far at the corresponding date and hour (numeric)\n",
    "\n",
    "\n",
    "\n",
    "- group_booking: (binary: 1 (yes), 0 (no))  \n",
    "\n",
    "\n",
    "- promotion: (binary: 1 (yes), 0 (no))\n",
    "\n",
    "\n",
    "\n",
    "#### Event variables\n",
    "\n",
    "- comedy_event: (binary: 1 (yes), 0 (no))\n",
    "\n",
    "\n",
    "- concert: (binary: 1 (yes), 0 (no))\n",
    "\n",
    "\n",
    "- event: (binary: 1 (yes), 0 (no))\n",
    "\n",
    "\n",
    "- large_event: (binary: 1 (yes), 0 (no))\n",
    "\n",
    "\n",
    "- show: (binary: 1 (yes), 0 (no))\n",
    "\n",
    "\n",
    "- sports: (binary: 1 (yes), 0 (no))\n",
    "\n",
    "\n",
    "- other: (binary: 1 (yes), 0 (no))\n",
    "\n",
    "\n",
    "#### Transport variables\n",
    "\n",
    "- airport_open: (binary: 1 (yes), 0 (no))\n",
    "\n",
    "\n",
    "- flights_cancelled: any unexpected flight cancellation on the day (binary: 1 (yes), 0 (no))\n",
    "\n",
    "\n",
    "- flights_cancelled_notice: any flight cancellation with previous notice (binary: 1 (yes), 0 (no))\n",
    "\n",
    "\n",
    "- travel_disruption: (binary: 1 (yes), 0 (no))\n",
    "\n",
    "\n",
    "- travel_disruption_notice: (binary: 1 (yes), 0 (no))\n",
    "\n",
    "\n",
    "- weather: (binary: 1 (yes), 0 (no))  \n",
    "\n",
    "\n",
    "#### Other variables\n",
    "\n",
    "\n",
    "- maintenance: (binary: 1 (yes), 0 (no))\n",
    "\n",
    "\n",
    "- national_holiday: is the date variable a national holiday (binary: 1 (yes), 0 (no))\n",
    "\n",
    "\n",
    "- school_holiday: is the date variable a school holiday (binary: 1 (yes), 0 (no))\n",
    "\n",
    "\n",
    "- third_party_closure: (binary: 1 (yes), 0 (no))\n",
    "\n",
    "\n",
    "- vip: (binary: 1 (yes), 0 (no))\n",
    "\n",
    "\n",
    "\n",
    "\n",
    "\n",
    "\n",
    "\n",
    "\n",
    "       \n",
    "### <span style=\"color:blue\">Target variable</span>\n",
    "\n",
    "- occupied: number of new rooms occupied at a given date and hour (numeric)"
   ]
  },
  {
   "cell_type": "markdown",
   "id": "d032567a",
   "metadata": {},
   "source": [
    "### Import packages"
   ]
  },
  {
   "cell_type": "code",
   "execution_count": null,
   "id": "4152edea",
   "metadata": {},
   "outputs": [],
   "source": [
    "import pandas as pd\n",
    "import sklearn\n",
    "import seaborn"
   ]
  },
  {
   "cell_type": "markdown",
   "id": "33c97da4",
   "metadata": {},
   "source": [
    "**Import Training Data**"
   ]
  },
  {
   "cell_type": "code",
   "execution_count": null,
   "id": "dfdf085a",
   "metadata": {},
   "outputs": [],
   "source": [
    "train_data = pd.read_csv('https://github.com/youtalspectra/spectra_ml_example/raw/master/data/hotel_train.csv')"
   ]
  },
  {
   "cell_type": "markdown",
   "id": "85c3f223",
   "metadata": {},
   "source": [
    "## Exploratory Data Analysis\n",
    "\n",
    "Explore, pre-process and/or clean the data here."
   ]
  },
  {
   "cell_type": "code",
   "execution_count": null,
   "id": "cd0b012d",
   "metadata": {},
   "outputs": [],
   "source": []
  },
  {
   "cell_type": "markdown",
   "id": "0c218e95",
   "metadata": {},
   "source": [
    "## Model fitting\n",
    "\n",
    "Fit and optmize your model here."
   ]
  },
  {
   "cell_type": "code",
   "execution_count": null,
   "id": "92e50df7",
   "metadata": {},
   "outputs": [],
   "source": []
  },
  {
   "cell_type": "markdown",
   "id": "b56c68f9",
   "metadata": {},
   "source": [
    "## Predictions\n",
    "\n",
    "Make predictions on the following test set and get the model score here. Remember to apply the same pre-processing to the test set as done on the test set !"
   ]
  },
  {
   "cell_type": "code",
   "execution_count": null,
   "id": "544bab45",
   "metadata": {},
   "outputs": [],
   "source": [
    "test_data = pd.read_csv('https://github.com/youtalspectra/spectra_ml_example/raw/master/data/hotel_test_1year.csv')"
   ]
  },
  {
   "cell_type": "code",
   "execution_count": null,
   "id": "c2862a88",
   "metadata": {},
   "outputs": [],
   "source": []
  }
 ],
 "metadata": {
  "kernelspec": {
   "display_name": "Python 3",
   "language": "python",
   "name": "python3"
  },
  "language_info": {
   "codemirror_mode": {
    "name": "ipython",
    "version": 3
   },
   "file_extension": ".py",
   "mimetype": "text/x-python",
   "name": "python",
   "nbconvert_exporter": "python",
   "pygments_lexer": "ipython3",
   "version": "3.6.13"
  }
 },
 "nbformat": 4,
 "nbformat_minor": 5
}
