{
 "cells": [
  {
   "cell_type": "markdown",
   "id": "6f46ad6a",
   "metadata": {},
   "source": [
    "# Occupancy prediction"
   ]
  },
  {
   "cell_type": "markdown",
   "id": "723d4b88",
   "metadata": {},
   "source": [
    "## <span style=\"color:red\">Problem</span>\n",
    "\n",
    "\n"
   ]
  },
  {
   "cell_type": "markdown",
   "id": "15be76ff",
   "metadata": {},
   "source": [
    "## <span style=\"color:red\">Data</span>\n",
    "\n",
    "\n",
    "### <span style=\"color:blue\">Features</span>\n",
    "\n",
    "'date', 'hour', 'occupied', 'start_available', 'bar_vista',\n",
    "       'occupied_start', 'comedy_event', 'concert', 'event',\n",
    "       'flights_cancelled', 'flights_cancelled_notice', 'group_booking',\n",
    "       'large_event', 'maintenance', 'national_holiday', 'other', 'promotion',\n",
    "       'school_holiday', 'show', 'sports', 'third_party_closure',\n",
    "       'travel_disruption', 'travel_disruption_notice', 'vip', 'weather',\n",
    "       'otb_today_hour', 'hour_cont', 'airport_open', 'last_hour'"
   ]
  },
  {
   "cell_type": "markdown",
   "id": "d032567a",
   "metadata": {},
   "source": [
    "### Import packages"
   ]
  },
  {
   "cell_type": "code",
   "execution_count": null,
   "id": "4152edea",
   "metadata": {},
   "outputs": [],
   "source": [
    "import pandas as pd\n",
    "import sklearn\n",
    "import seaborn"
   ]
  },
  {
   "cell_type": "markdown",
   "id": "33c97da4",
   "metadata": {},
   "source": [
    "**Import Training Data**"
   ]
  },
  {
   "cell_type": "code",
   "execution_count": null,
   "id": "dfdf085a",
   "metadata": {},
   "outputs": [],
   "source": [
    "train_data = pd.read_csv('../data/movie_reviews_train.csv')"
   ]
  },
  {
   "cell_type": "markdown",
   "id": "85c3f223",
   "metadata": {},
   "source": [
    "## Exploratory Data Analysis\n",
    "\n",
    "Explore, pre-process and/or clean the data here."
   ]
  },
  {
   "cell_type": "code",
   "execution_count": null,
   "id": "cd0b012d",
   "metadata": {},
   "outputs": [],
   "source": []
  },
  {
   "cell_type": "markdown",
   "id": "0c218e95",
   "metadata": {},
   "source": [
    "## Model fitting\n",
    "\n",
    "Fit and optmize your model here."
   ]
  },
  {
   "cell_type": "code",
   "execution_count": null,
   "id": "92e50df7",
   "metadata": {},
   "outputs": [],
   "source": []
  },
  {
   "cell_type": "markdown",
   "id": "b56c68f9",
   "metadata": {},
   "source": [
    "## Predictions\n",
    "\n",
    "Make predictions on the following test set and get the model score here. Remember to apply the same pre-processing to the test set as done on the test set !"
   ]
  },
  {
   "cell_type": "code",
   "execution_count": null,
   "id": "544bab45",
   "metadata": {},
   "outputs": [],
   "source": [
    "test_data = pd.read_csv('../data/movie_reviews_test_1000.csv')"
   ]
  },
  {
   "cell_type": "code",
   "execution_count": null,
   "id": "c2862a88",
   "metadata": {},
   "outputs": [],
   "source": []
  }
 ],
 "metadata": {
  "kernelspec": {
   "display_name": "Python 3",
   "language": "python",
   "name": "python3"
  },
  "language_info": {
   "codemirror_mode": {
    "name": "ipython",
    "version": 3
   },
   "file_extension": ".py",
   "mimetype": "text/x-python",
   "name": "python",
   "nbconvert_exporter": "python",
   "pygments_lexer": "ipython3",
   "version": "3.6.13"
  }
 },
 "nbformat": 4,
 "nbformat_minor": 5
}
