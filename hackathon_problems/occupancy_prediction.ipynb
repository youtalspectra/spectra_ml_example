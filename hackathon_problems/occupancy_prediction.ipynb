{
 "cells": [
  {
   "cell_type": "markdown",
   "id": "6f46ad6a",
   "metadata": {},
   "source": [
    "# Demand Prediction: Hotel Occupancy"
   ]
  },
  {
   "cell_type": "markdown",
   "id": "723d4b88",
   "metadata": {},
   "source": [
    "## <span style=\"color:red\">Problem</span>\n",
    "\n",
    "A hotel chain wants to improve their demand management and pricing policy by predicting intraday bookings, that is customers who request a room during the day without any prior reservation. This intraday demand is affected by the hotel characteristics but also external effects such as adverse transport or weather events. Using the given hotel occupancy dataset, build a model that can predict how many people will come and occupy a room on any given day and hour (intraday booking).\n"
   ]
  },
  {
   "cell_type": "markdown",
   "id": "15be76ff",
   "metadata": {},
   "source": [
    "## <span style=\"color:red\">Data</span>\n",
    "\n",
    "The data consists in same day bookings for a hotel, that is how many people arrived within a given date and hour to get a room. It has current occupancy and price data from the hotel as well as external event data that could affect intraday occupancy (events, nearby airport data, weather).\n",
    "\n",
    "\n",
    "### <span style=\"color:blue\">Features</span>\n",
    "\n",
    "#### Time variables\n",
    "\n",
    "- **date**: date of occupancy\n",
    "\n",
    "\n",
    "- **hour**: hour of occupancy (0 to 23)\n",
    "\n",
    "\n",
    "- **last_hour**: 0 if before 11pm, 1 between 11pm and 12am (binary: 1 (yes), 0 (no))\n",
    "\n",
    "\n",
    "\n",
    "#### Hotel variables \n",
    "\n",
    "- **start_available**: number of rooms available at the start of each date (numeric)\n",
    "\n",
    "\n",
    "- **price**: average room price (numeric)\n",
    "\n",
    "\n",
    "- **occupied_start**: number of rooms already occupied at the start of each date (numeric)\n",
    "\n",
    " \n",
    "- **otb_today_hour**: \"on the books': number of new rooms that have been occupied so far at the corresponding date and hour (numeric)\n",
    "\n",
    "\n",
    "\n",
    "\n",
    "#### Event variables\n",
    "\n",
    "- **comedy_event**: Is there a comedy event on this date? (binary: 1 (yes), 0 (no))\n",
    "\n",
    "\n",
    "- **concert**: Is there a concert on this date? (binary: 1 (yes), 0 (no))\n",
    "\n",
    "\n",
    "- **large_event**: Is there a large event on this date? (binary: 1 (yes), 0 (no))\n",
    "\n",
    "\n",
    "- **show**: Is there a show event on this date? (binary: 1 (yes), 0 (no))\n",
    "\n",
    "\n",
    "- **sports**: Is there a sports event on this date? (binary: 1 (yes), 0 (no))\n",
    "\n",
    "\n",
    "#### Transport variables\n",
    "\n",
    "- **airport_open**: is the airport open? (binary: 1 (yes), 0 (no))\n",
    "\n",
    "\n",
    "- **flights_cancelled**: any unexpected flight cancellation on this date? (binary: 1 (yes), 0 (no))\n",
    "\n",
    "\n",
    "- **flights_cancelled_notice**: any flight cancellation on this date with previous notice? (binary: 1 (yes), 0 (no))\n",
    "\n",
    "\n",
    "- **travel_disruption**: any unexpected transport disruption on this date? (binary: 1 (yes), 0 (no))\n",
    "\n",
    "\n",
    "- **travel_disruption_notice**: any transport disruption on this date with previous notice? (binary: 1 (yes), 0 (no))\n",
    "\n",
    "\n",
    "- **weather**: are there adverse weather conditions on this date? (binary: 1 (yes), 0 (no))  \n",
    "\n",
    "\n",
    "#### Other variables\n",
    "\n",
    "\n",
    "- **national_holiday**: is the date variable a national holiday? (binary: 1 (yes), 0 (no))\n",
    "\n",
    "\n",
    "- **school_holiday**: is the date variable a school holiday? (binary: 1 (yes), 0 (no))\n",
    "\n",
    "       \n",
    "### <span style=\"color:blue\">Target variable</span>\n",
    "\n",
    "- **occupied**: number of new rooms occupied at a given date and hour (numeric)\n",
    "\n",
    "\n",
    "### <span style=\"color:blue\">Train/Test sets</span>\n",
    "\n",
    "The train set contains 3 years worth of occupancy and events data, and the test set is 1 year long."
   ]
  },
  {
   "cell_type": "markdown",
   "id": "8c7d5c8a",
   "metadata": {},
   "source": [
    "## <span style=\"color:red\">Before starting</span>"
   ]
  },
  {
   "cell_type": "markdown",
   "id": "26ca520c",
   "metadata": {},
   "source": [
    "Given the problem and data:\n",
    "- Which machine learning approach do you think would be most suited between classification and regression ?\n",
    "- What is the range of values your model should be able to return ?\n",
    "\n",
    "Answer in the below cell"
   ]
  },
  {
   "cell_type": "markdown",
   "id": "7136c644",
   "metadata": {},
   "source": []
  },
  {
   "cell_type": "markdown",
   "id": "16ea66a4",
   "metadata": {},
   "source": [
    "## <span style=\"color:red\">Coding starts here</span>"
   ]
  },
  {
   "cell_type": "code",
   "execution_count": null,
   "id": "ef593cd3",
   "metadata": {},
   "outputs": [],
   "source": [
    "%pylab inline"
   ]
  },
  {
   "cell_type": "markdown",
   "id": "d032567a",
   "metadata": {},
   "source": [
    "### Import packages\n",
    "More can be added here on top of the default ones if necessary."
   ]
  },
  {
   "cell_type": "code",
   "execution_count": null,
   "id": "4152edea",
   "metadata": {},
   "outputs": [],
   "source": [
    "import pandas as pd\n",
    "import seaborn"
   ]
  },
  {
   "cell_type": "markdown",
   "id": "33c97da4",
   "metadata": {},
   "source": [
    "**Import Training Data**"
   ]
  },
  {
   "cell_type": "code",
   "execution_count": null,
   "id": "dfdf085a",
   "metadata": {},
   "outputs": [],
   "source": [
    "train_data = pd.read_csv('https://github.com/youtalspectra/spectra_ml_example/raw/master/data/hotel_train.csv')"
   ]
  },
  {
   "cell_type": "markdown",
   "id": "02e9f523",
   "metadata": {},
   "source": []
  },
  {
   "cell_type": "markdown",
   "id": "85c3f223",
   "metadata": {},
   "source": [
    "## Exploratory Data Analysis\n",
    "\n",
    "Explore, pre-process and/or clean the data here. \n",
    "\n",
    "What is the type and/or range of values for each feature/variable? Are there any relationships or correlations between the different variables? Is any transformation of the data needed before fitting any model?"
   ]
  },
  {
   "cell_type": "code",
   "execution_count": null,
   "id": "cd0b012d",
   "metadata": {},
   "outputs": [],
   "source": []
  },
  {
   "cell_type": "markdown",
   "id": "0c218e95",
   "metadata": {},
   "source": [
    "## Model fitting\n",
    "\n",
    "Fit/optmize your model here, and get the model training score."
   ]
  },
  {
   "cell_type": "code",
   "execution_count": null,
   "id": "92e50df7",
   "metadata": {},
   "outputs": [],
   "source": []
  },
  {
   "cell_type": "markdown",
   "id": "b56c68f9",
   "metadata": {},
   "source": [
    "## Predictions\n",
    "\n",
    "Make predictions on the following test set and get the model score here. Remember to apply the same pre-processing to the test set as done on the training set !"
   ]
  },
  {
   "cell_type": "code",
   "execution_count": null,
   "id": "544bab45",
   "metadata": {},
   "outputs": [],
   "source": [
    "test_data = pd.read_csv('https://github.com/youtalspectra/spectra_ml_example/raw/master/data/hotel_test_1year.csv')"
   ]
  },
  {
   "cell_type": "code",
   "execution_count": null,
   "id": "c2862a88",
   "metadata": {},
   "outputs": [],
   "source": []
  }
 ],
 "metadata": {
  "kernelspec": {
   "display_name": "Python 3",
   "language": "python",
   "name": "python3"
  },
  "language_info": {
   "codemirror_mode": {
    "name": "ipython",
    "version": 3
   },
   "file_extension": ".py",
   "mimetype": "text/x-python",
   "name": "python",
   "nbconvert_exporter": "python",
   "pygments_lexer": "ipython3",
   "version": "3.6.13"
  }
 },
 "nbformat": 4,
 "nbformat_minor": 5
}
