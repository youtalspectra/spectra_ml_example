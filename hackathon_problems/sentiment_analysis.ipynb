{
 "cells": [
  {
   "cell_type": "markdown",
   "id": "6f46ad6a",
   "metadata": {},
   "source": [
    "# Sentiment Analysis: Movie Reviews"
   ]
  },
  {
   "cell_type": "markdown",
   "id": "723d4b88",
   "metadata": {},
   "source": [
    "## <span style=\"color:red\">Problem</span>\n",
    "\n",
    "In movie review websites such as IMDB, users can type a review in raw text format and give a rating. The objective of this challenge is to build an AI that can predict as accurately as possible what the user rating of a movie is from their review. This part of a larger class of problems called sentiment analysis. To simplify the problem, we only consider two simple rating values that are 'positive' or 'negative'. The AI should be able to \"understand\" what makes a review polarised one way or the other. Using the given movie review dataset, your goal is to build a model that can predict whether an unseen movie review is positive or negative.\n"
   ]
  },
  {
   "cell_type": "markdown",
   "id": "15be76ff",
   "metadata": {},
   "source": [
    "## <span style=\"color:red\">Data</span>\n",
    "\n",
    "\n",
    "### <span style=\"color:blue\">Large Movie Review Dataset</span>\n",
    "\n",
    "**Source**: *Maas, Andrew, Raymond E. Daly, Peter T. Pham, Dan Huang, Andrew Y. Ng, and Christopher Potts. \"Learning word vectors for sentiment analysis.\" In Proceedings of the 49th annual meeting of the association for computational linguistics: Human language technologies, pp. 142-150. 2011.*\n",
    "\n",
    "\n",
    "This dataset contains movie reviews from IMDB along with their associated binary sentiment polarity labels. \n",
    "\n",
    "### <span style=\"color:blue\">Features</span>\n",
    "\n",
    "* **review**: movie review in free text format\n",
    "\n",
    "### <span style=\"color:blue\">Target variable</span>\n",
    "\n",
    "* **sentiment**: categorical variable, can be 'positive' or 'negative'\n",
    "\n",
    "### <span style=\"color:blue\">Train/Test sets</span>\n",
    "\n",
    "The train dataset contains 25,000 reviews evenly split between 12500 positive and 12500 negative reviews. \n",
    "In the entire collection, no more than 30 reviews are allowed for any given movie because reviews for the same movie tend to have correlated ratings. The reviews are polarised since a negative review has a score <= 4 out of 10 and a positive review has a score >= 7 out of 10. \n",
    "\n",
    "The test set contains 1000 reviews and their sentiment."
   ]
  },
  {
   "cell_type": "markdown",
   "id": "f85f0772",
   "metadata": {},
   "source": [
    "## <span style=\"color:red\">Before starting</span>"
   ]
  },
  {
   "cell_type": "markdown",
   "id": "08683688",
   "metadata": {},
   "source": [
    "Given the problem and data:\n",
    "- Which machine learning approach do you think would be most suited between classification and regression ?\n",
    "- What is the range of values your model should be able to return ?\n",
    "\n",
    "Answer in the below cell"
   ]
  },
  {
   "cell_type": "markdown",
   "id": "ca365d96",
   "metadata": {},
   "source": []
  },
  {
   "cell_type": "markdown",
   "id": "055cfba8",
   "metadata": {},
   "source": [
    "## <span style=\"color:red\">Coding starts here</span>"
   ]
  },
  {
   "cell_type": "code",
   "execution_count": null,
   "id": "88d17c21",
   "metadata": {},
   "outputs": [],
   "source": [
    "%pylab inline"
   ]
  },
  {
   "cell_type": "markdown",
   "id": "d032567a",
   "metadata": {},
   "source": [
    "### Import packages\n",
    "More can be added here on top of the default ones if necessary."
   ]
  },
  {
   "cell_type": "code",
   "execution_count": null,
   "id": "4152edea",
   "metadata": {},
   "outputs": [],
   "source": [
    "import pandas as pd\n",
    "import seaborn"
   ]
  },
  {
   "cell_type": "markdown",
   "id": "33c97da4",
   "metadata": {},
   "source": [
    "**Import Training Data**"
   ]
  },
  {
   "cell_type": "code",
   "execution_count": null,
   "id": "dfdf085a",
   "metadata": {},
   "outputs": [],
   "source": [
    "train_data = pd.read_csv('https://github.com/youtalspectra/spectra_ml_example/raw/master/data/movie_reviews_train.csv')"
   ]
  },
  {
   "cell_type": "markdown",
   "id": "85c3f223",
   "metadata": {},
   "source": [
    "## Exploratory Data Analysis\n",
    "\n",
    "Explore, pre-process and/or clean the data here. \n",
    "\n",
    "What is the type and/or range of values for each feature/variable? Are there any relationships or correlations between the different variables? Is any transformation of the data needed before fitting any model?"
   ]
  },
  {
   "cell_type": "code",
   "execution_count": null,
   "id": "cd0b012d",
   "metadata": {},
   "outputs": [],
   "source": []
  },
  {
   "cell_type": "markdown",
   "id": "0c218e95",
   "metadata": {},
   "source": [
    "## Model fitting\n",
    "\n",
    "Fit/optmize your model here, and get the model training score."
   ]
  },
  {
   "cell_type": "code",
   "execution_count": null,
   "id": "92e50df7",
   "metadata": {},
   "outputs": [],
   "source": []
  },
  {
   "cell_type": "markdown",
   "id": "b56c68f9",
   "metadata": {},
   "source": [
    "## Predictions\n",
    "\n",
    "Make predictions on the following test set and get the model score here. Remember to apply the same pre-processing to the test set as done on the training set !"
   ]
  },
  {
   "cell_type": "code",
   "execution_count": null,
   "id": "544bab45",
   "metadata": {},
   "outputs": [],
   "source": [
    "test_data = pd.read_csv('https://github.com/youtalspectra/spectra_ml_example/raw/master/data/movie_reviews_test_1000.csv')"
   ]
  },
  {
   "cell_type": "code",
   "execution_count": null,
   "id": "c2862a88",
   "metadata": {},
   "outputs": [],
   "source": []
  }
 ],
 "metadata": {
  "kernelspec": {
   "display_name": "Python 3",
   "language": "python",
   "name": "python3"
  },
  "language_info": {
   "codemirror_mode": {
    "name": "ipython",
    "version": 3
   },
   "file_extension": ".py",
   "mimetype": "text/x-python",
   "name": "python",
   "nbconvert_exporter": "python",
   "pygments_lexer": "ipython3",
   "version": "3.6.13"
  }
 },
 "nbformat": 4,
 "nbformat_minor": 5
}
