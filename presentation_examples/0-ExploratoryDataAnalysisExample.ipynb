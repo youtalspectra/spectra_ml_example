{
 "cells": [
  {
   "cell_type": "code",
   "execution_count": null,
   "metadata": {
    "colab": {
     "base_uri": "https://localhost:8080/"
    },
    "id": "ZF8q2xGprIF7",
    "outputId": "bba6f82c-e8b8-4772-e7c9-a5917cb40689"
   },
   "outputs": [],
   "source": [
    "import matplotlib.pyplot as plt\n",
    "import numpy as np\n",
    "from statsmodels.graphics.tsaplots import plot_acf, plot_pacf\n",
    "import pandas as pd "
   ]
  },
  {
   "cell_type": "markdown",
   "metadata": {
    "id": "rxJAW5MozV1R"
   },
   "source": [
    "Suppose we have a table of employees, and we want to perform some analysis"
   ]
  },
  {
   "cell_type": "code",
   "execution_count": null,
   "metadata": {
    "colab": {
     "base_uri": "https://localhost:8080/",
     "height": 206
    },
    "id": "LrTHCEgMuJxW",
    "outputId": "d09eccf2-3d39-48dc-ec21-756e64968fa6"
   },
   "outputs": [],
   "source": [
    "d = {'name': ['Billy', 'Mandy', 'Courage', 'Blossom', 'Buttercup'], 'strength': [2.0, 3.0, 1.0, 20.0, 22.0], 'dexterity': [5.0, 8.0, np.nan, 6.0, 5.0], 'speed': ['low', 'low', 10.0, 31.0, 30.0], 'salary': ['$10,000', '$100,000', '$40,000', '$70,000', '$70,000']}\n",
    "df = pd.DataFrame(data=d)\n",
    "df"
   ]
  },
  {
   "cell_type": "markdown",
   "metadata": {
    "id": "AKqFZVc_0W1x"
   },
   "source": [
    "We note that the dexterity of Courage is Not a Number (NaN). We could proceed with one of the following options:\n",
    "\n",
    "\n",
    "*   Delete the Courage row\n",
    "*   Delete the dexterity column\n",
    "*   Impute a value of dexterity for Courage\n",
    "\n",
    "Lets impute a dexterity by taking the mean dexterity of the other employees.\n",
    "\n"
   ]
  },
  {
   "cell_type": "code",
   "execution_count": null,
   "metadata": {
    "colab": {
     "base_uri": "https://localhost:8080/",
     "height": 206
    },
    "id": "GdKon5n7z05Y",
    "outputId": "d3fd62d2-80e6-413f-ea3d-31ac5e912861"
   },
   "outputs": [],
   "source": [
    "df=df.fillna(df['dexterity'].mean())\n",
    "df"
   ]
  },
  {
   "cell_type": "markdown",
   "metadata": {
    "id": "dyHxEhDq2psO"
   },
   "source": [
    "We can see that Billy and Mandy have low speed. Let's replace 'low' with a numerical speed of 5"
   ]
  },
  {
   "cell_type": "code",
   "execution_count": null,
   "metadata": {
    "colab": {
     "base_uri": "https://localhost:8080/",
     "height": 206
    },
    "id": "Q2eo4lXu2wDt",
    "outputId": "2e21368f-0c14-40ac-b1ea-eb96dd739159"
   },
   "outputs": [],
   "source": [
    "df['speed'] = df['speed'].replace('low', 5.0)\n",
    "df"
   ]
  },
  {
   "cell_type": "markdown",
   "metadata": {
    "id": "RBweWrlY_MGm"
   },
   "source": [
    "Now the salary is not saved as a number, but is saved as a string e.g '$10,000' so lets convert this into a number."
   ]
  },
  {
   "cell_type": "code",
   "execution_count": null,
   "metadata": {
    "colab": {
     "base_uri": "https://localhost:8080/",
     "height": 241
    },
    "id": "dzIgvQ_y2vv2",
    "outputId": "f0c5e78f-6eb8-4017-f536-01b33bb28a3e"
   },
   "outputs": [],
   "source": [
    "df['salary'] = df['salary'].str.replace(r'\\D', '').astype(float)\n",
    "df"
   ]
  },
  {
   "cell_type": "markdown",
   "metadata": {
    "id": "7Eg_5BRhq2nL"
   },
   "source": [
    "Lets consider a different example. This time with a time series. Suppose we have two prices over time. The price of wheat, and the price of barley. For simplicity, we will create some fake data.\n"
   ]
  },
  {
   "cell_type": "code",
   "execution_count": null,
   "metadata": {
    "colab": {
     "base_uri": "https://localhost:8080/",
     "height": 279
    },
    "id": "9aUgBqtqqgNI",
    "outputId": "1412df5d-540d-4f9c-abf8-e03b58c71760"
   },
   "outputs": [],
   "source": [
    "Fs = 24\n",
    "sample = 240\n",
    "time = np.arange(sample)\n",
    "\n",
    "wheat = np.sin(2 * np.pi * time / Fs)\n",
    "wheat += np.random.normal(loc=0.0, scale=0.4, size=(time.size,)) + 2\n",
    "barley = 5*np.sin(2 * np.pi * time / Fs)\n",
    "barley += np.random.normal(loc=0.0, scale=2.0, size=(time.size,)) + 10\n",
    "\n",
    "plt.plot(time, wheat)\n",
    "plt.plot(time, barley)\n",
    "plt.xlabel('time (hours)')\n",
    "plt.ylabel('price')\n",
    "plt.show()"
   ]
  },
  {
   "cell_type": "markdown",
   "metadata": {
    "id": "ErwuASYyrGpb"
   },
   "source": [
    "We can visualise the price distribution of wheat and barley with a box plot and whiskers diagram\n",
    "\n"
   ]
  },
  {
   "cell_type": "code",
   "execution_count": null,
   "metadata": {
    "colab": {
     "base_uri": "https://localhost:8080/",
     "height": 265
    },
    "id": "VQRr7FOurSZ6",
    "outputId": "d7944d8c-b58c-4a15-dde5-ba3a7832a297"
   },
   "outputs": [],
   "source": [
    "data = np.transpose( np.vstack((wheat,barley)) )\n",
    "fig, ax = plt.subplots()\n",
    "ax.boxplot(data)\n",
    "plt.xticks(np.arange(3), ['','wheat','barley'])\n",
    "plt.ylabel('price')\n",
    "plt.show()"
   ]
  },
  {
   "cell_type": "markdown",
   "metadata": {
    "id": "9Ps2-3CLreOy"
   },
   "source": [
    "We can also visualise the data with histograms"
   ]
  },
  {
   "cell_type": "code",
   "execution_count": null,
   "metadata": {
    "colab": {
     "base_uri": "https://localhost:8080/",
     "height": 279
    },
    "id": "xZAb3LSOsOfp",
    "outputId": "ce849d42-2e10-4f85-b115-1ee4c0171cef"
   },
   "outputs": [],
   "source": [
    "plt.hist(wheat,alpha = 0.8)\n",
    "plt.hist(barley,alpha = 0.8)\n",
    "plt.xlabel('price')\n",
    "plt.ylabel('frequency')\n",
    "plt.show()"
   ]
  },
  {
   "cell_type": "markdown",
   "metadata": {
    "id": "9n2cUtdDsVjB"
   },
   "source": [
    "Is the price of wheat and the price of barley correlated?"
   ]
  },
  {
   "cell_type": "code",
   "execution_count": null,
   "metadata": {
    "colab": {
     "base_uri": "https://localhost:8080/",
     "height": 296
    },
    "id": "naMwQzSMtERB",
    "outputId": "7a7fe90a-cdf1-4fd3-eabd-a9fed11d25c2"
   },
   "outputs": [],
   "source": [
    "[m,c] = np.polyfit(wheat,barley,1)\n",
    "plt.plot(wheat,m*wheat + c,'red')\n",
    "plt.scatter(wheat,barley)\n",
    "plt.xlabel('wheat')\n",
    "plt.ylabel('barley')\n",
    "plt.show()\n",
    "\n",
    "print('The correlation between the price of wheat and barley is',np.corrcoef(wheat,barley)[0,1])"
   ]
  },
  {
   "cell_type": "markdown",
   "metadata": {
    "id": "Yi4wK-tRwMWw"
   },
   "source": [
    "Lets look at the autocorrelation and partial autocorrelation functions for barley"
   ]
  },
  {
   "cell_type": "code",
   "execution_count": null,
   "metadata": {
    "colab": {
     "base_uri": "https://localhost:8080/",
     "height": 807
    },
    "id": "Zwesk4zWxqPG",
    "outputId": "f984bab8-a049-4814-efd8-1200c6c7b1df"
   },
   "outputs": [],
   "source": [
    "plt.plot(time, wheat)\n",
    "plt.xlabel('time (hours)')\n",
    "plt.ylabel('price')\n",
    "plot_acf(wheat,lags = 50)\n",
    "plot_pacf(wheat,lags = 50)\n",
    "plt.show()"
   ]
  }
 ],
 "metadata": {
  "colab": {
   "collapsed_sections": [],
   "name": "EDA.ipynb",
   "provenance": []
  },
  "kernelspec": {
   "display_name": "Python 3",
   "language": "python",
   "name": "python3"
  },
  "language_info": {
   "codemirror_mode": {
    "name": "ipython",
    "version": 3
   },
   "file_extension": ".py",
   "mimetype": "text/x-python",
   "name": "python",
   "nbconvert_exporter": "python",
   "pygments_lexer": "ipython3",
   "version": "3.6.13"
  }
 },
 "nbformat": 4,
 "nbformat_minor": 1
}
