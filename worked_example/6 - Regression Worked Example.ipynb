{
 "cells": [
  {
   "cell_type": "code",
   "execution_count": null,
   "metadata": {},
   "outputs": [],
   "source": [
    "!pip install keras"
   ]
  },
  {
   "cell_type": "code",
   "execution_count": null,
   "metadata": {},
   "outputs": [],
   "source": [
    "%pylab inline"
   ]
  },
  {
   "cell_type": "code",
   "execution_count": null,
   "metadata": {},
   "outputs": [],
   "source": [
    "import pandas as pd\n",
    "import numpy as np\n",
    "import datetime as dt\n",
    "from sklearn.model_selection import cross_val_score, GridSearchCV, KFold\n",
    "from sklearn.metrics import mean_squared_error, make_scorer\n",
    "from sklearn.linear_model import LassoCV, Lasso\n",
    "from sklearn.metrics import mean_squared_error\n",
    "from sklearn.pipeline import Pipeline\n",
    "from sklearn.preprocessing import StandardScaler, PolynomialFeatures\n",
    "import seaborn"
   ]
  },
  {
   "cell_type": "code",
   "execution_count": null,
   "metadata": {},
   "outputs": [],
   "source": [
    "seaborn.set_context('talk')\n",
    "seaborn.set_style('white')"
   ]
  },
  {
   "cell_type": "markdown",
   "metadata": {},
   "source": [
    "# Load Dataset"
   ]
  },
  {
   "cell_type": "code",
   "execution_count": null,
   "metadata": {},
   "outputs": [],
   "source": []
  },
  {
   "cell_type": "code",
   "execution_count": null,
   "metadata": {},
   "outputs": [],
   "source": [
    "data = pd.read_csv(\"https://raw.githubusercontent.com/danybol/gft_ml_example/master/worked_example/data.csv\")"
   ]
  },
  {
   "cell_type": "code",
   "execution_count": null,
   "metadata": {},
   "outputs": [],
   "source": [
    "data.head()"
   ]
  },
  {
   "cell_type": "code",
   "execution_count": null,
   "metadata": {},
   "outputs": [],
   "source": [
    "data['date'] = pd.to_datetime(data['date'])"
   ]
  },
  {
   "cell_type": "code",
   "execution_count": null,
   "metadata": {},
   "outputs": [],
   "source": [
    "_ = plot(data.date, data.y)"
   ]
  },
  {
   "cell_type": "code",
   "execution_count": null,
   "metadata": {},
   "outputs": [],
   "source": [
    "_ = plot(data.date[0:365], data.y[0:365])"
   ]
  },
  {
   "cell_type": "markdown",
   "metadata": {},
   "source": [
    "#### Features to notice\n",
    "\n",
    "- Seasonality\n",
    "- Trend, possibly non-linear?"
   ]
  },
  {
   "cell_type": "code",
   "execution_count": null,
   "metadata": {},
   "outputs": [],
   "source": [
    "y = data['y'].values\n",
    "X = data.drop(['y', 'date'], axis=1).values"
   ]
  },
  {
   "cell_type": "markdown",
   "metadata": {},
   "source": [
    "## Split into train and test"
   ]
  },
  {
   "cell_type": "code",
   "execution_count": null,
   "metadata": {},
   "outputs": [],
   "source": [
    "def train_test_split(X, y):\n",
    "    N = X.shape[0]\n",
    "    split_size = int(N/5)\n",
    "    split = int(N - 2*split_size)\n",
    "    train_X = X[:split]\n",
    "    train_y = y[:split]\n",
    "    val_X = X[split:split+split_size]\n",
    "    val_y = y[split:split+split_size]\n",
    "    test_X = X[split+split_size:]\n",
    "    test_y = y[split+split_size:]\n",
    "    \n",
    "    return train_X, train_y, val_X, val_y, test_X, test_y"
   ]
  },
  {
   "cell_type": "code",
   "execution_count": null,
   "metadata": {},
   "outputs": [],
   "source": [
    "train_X, train_y, val_X, val_y, test_X, test_y = train_test_split(X, y)"
   ]
  },
  {
   "cell_type": "markdown",
   "metadata": {},
   "source": [
    "### Set up framework for testing models"
   ]
  },
  {
   "cell_type": "code",
   "execution_count": null,
   "metadata": {},
   "outputs": [],
   "source": [
    "train_X.shape"
   ]
  },
  {
   "cell_type": "code",
   "execution_count": null,
   "metadata": {},
   "outputs": [],
   "source": [
    "def test_model(model, params, train_X, train_y, test_X, test_y):\n",
    "    scorer = make_scorer(mean_squared_error, greater_is_better=False) # Use mean squared error as score\n",
    "    gs = GridSearchCV(model, params, scoring=scorer, cv=KFold(n_splits=5)) # Cross-validation to pick best hyperparameter\n",
    "    gs.fit(train_X, train_y)\n",
    "    gs.best_estimator_.fit(train_X, train_y)\n",
    "    train_pred = gs.best_estimator_.predict(train_X) # Make prediction on training set\n",
    "    test_pred = gs.best_estimator_.predict(test_X) # Make prediction on test set\n",
    "    print(\"Training MSE: \", mean_squared_error(train_y, train_pred))\n",
    "    print(\"Test MSE: \", mean_squared_error(test_y, test_pred))\n",
    "    return gs.best_estimator_"
   ]
  },
  {
   "cell_type": "markdown",
   "metadata": {},
   "source": [
    "#### Scikit-learn pipelines are a good way of keeping code clean. They let you easily swap out models and preprocessing steps"
   ]
  },
  {
   "cell_type": "code",
   "execution_count": null,
   "metadata": {},
   "outputs": [],
   "source": [
    "model = Pipeline([('features', None),\n",
    "                  ('preprocess', None),\n",
    "                  ('model', None)])\n"
   ]
  },
  {
   "cell_type": "markdown",
   "metadata": {},
   "source": [
    "### Try out different models"
   ]
  },
  {
   "cell_type": "markdown",
   "metadata": {},
   "source": [
    "#### Lasso with no other features"
   ]
  },
  {
   "cell_type": "code",
   "execution_count": null,
   "metadata": {},
   "outputs": [],
   "source": [
    "params = dict(model=[Lasso()], model__alpha=np.logspace(-2, 3), features=[None], preprocess=[None])\n",
    "simple_model = test_model(model, params, train_X, train_y, val_X, val_y)\n",
    "val_pred = simple_model.predict(val_X)"
   ]
  },
  {
   "cell_type": "code",
   "execution_count": null,
   "metadata": {},
   "outputs": [],
   "source": [
    "plot(val_y)\n",
    "plot(val_pred)\n",
    "legend(['Truth','Prediction'])"
   ]
  },
  {
   "cell_type": "markdown",
   "metadata": {},
   "source": [
    "#### Didn't pick up the trend (because lower than truth), didn't pick up seasonality. Looks like it does pick up some of the pattern in the 'noise' (possibly)"
   ]
  },
  {
   "cell_type": "markdown",
   "metadata": {},
   "source": [
    "#### Let's do some feature engineering: add one-hot-encoded day of week and day of month"
   ]
  },
  {
   "cell_type": "code",
   "execution_count": null,
   "metadata": {},
   "outputs": [],
   "source": [
    "week_one_hot = pd.get_dummies(data.date.dt.strftime(\"%a\"))\n",
    "print(week_one_hot.head())\n",
    "month_one_hot = pd.get_dummies(data.date.dt.strftime(\"%b\"))\n",
    "print(month_one_hot.head())\n",
    "time_in_days = (data.date - dt.datetime(2010, 1, 1)).dt.total_seconds() / 3600 / 24\n",
    "df_dates = pd.concat([data, week_one_hot, month_one_hot], axis=1)\n",
    "df_dates['t'] = time_in_days\n",
    "data = df_dates\n",
    "X = data.drop(['y', 'date'], axis=1).values\n",
    "train_X, train_y, val_X, val_y, test_X, test_y = train_test_split(X, y)"
   ]
  },
  {
   "cell_type": "code",
   "execution_count": null,
   "metadata": {},
   "outputs": [],
   "source": [
    "params = dict(model=[Lasso()], model__alpha=np.logspace(-2, 3), features=[None], preprocess=[None])\n",
    "week_month_model = test_model(model, params, train_X, train_y, val_X, val_y)\n",
    "val_pred = week_month_model.predict(val_X)"
   ]
  },
  {
   "cell_type": "code",
   "execution_count": null,
   "metadata": {},
   "outputs": [],
   "source": [
    "plot(val_y)\n",
    "plot(val_pred)"
   ]
  },
  {
   "cell_type": "markdown",
   "metadata": {},
   "source": [
    "#### Captures the seasonality, but missing trend"
   ]
  },
  {
   "cell_type": "markdown",
   "metadata": {},
   "source": [
    "#### Let's try standardising the input variables to see if that helps"
   ]
  },
  {
   "cell_type": "code",
   "execution_count": null,
   "metadata": {},
   "outputs": [],
   "source": [
    "params = dict(model=[Lasso()], model__alpha=np.logspace(-2, 6), features=[None], preprocess=[StandardScaler()])\n",
    "standardised_model = test_model(model, params, train_X, train_y, val_X, val_y)\n",
    "val_pred = standardised_model.predict(val_X)"
   ]
  },
  {
   "cell_type": "code",
   "execution_count": null,
   "metadata": {},
   "outputs": [],
   "source": [
    "plot(val_y)\n",
    "plot(val_pred)"
   ]
  },
  {
   "cell_type": "markdown",
   "metadata": {},
   "source": [
    "#### Let's try and capture the trend by adding nonlinear combinations of variables (e.g. $X_{0}^2$, $X_{0}$*$X_{1}$, etc)"
   ]
  },
  {
   "cell_type": "code",
   "execution_count": null,
   "metadata": {},
   "outputs": [],
   "source": [
    "params = dict(model=[Lasso()], model__alpha=np.logspace(-1, 4, num=20), preprocess=[StandardScaler()], features=[PolynomialFeatures()])\n",
    "trend_model = test_model(model, params, train_X, train_y, val_X, val_y)\n",
    "val_pred = trend_model.predict(val_X)"
   ]
  },
  {
   "cell_type": "code",
   "execution_count": null,
   "metadata": {},
   "outputs": [],
   "source": [
    "plot(val_y)\n",
    "plot(val_pred)"
   ]
  },
  {
   "cell_type": "markdown",
   "metadata": {},
   "source": [
    "#### Better MSE and capturing the trend slightly better. Perhaps there are higher order terms?"
   ]
  },
  {
   "cell_type": "markdown",
   "metadata": {},
   "source": [
    "### Try deep learning to avoid manual feature engineering"
   ]
  },
  {
   "cell_type": "markdown",
   "metadata": {},
   "source": [
    "#### Let's see if Deep learning can do better, just from the patterns in the target variable"
   ]
  },
  {
   "cell_type": "code",
   "execution_count": null,
   "metadata": {},
   "outputs": [],
   "source": [
    "pd.plotting.autocorrelation_plot(y)"
   ]
  },
  {
   "cell_type": "code",
   "execution_count": null,
   "metadata": {},
   "outputs": [],
   "source": [
    "\n",
    "from keras import Sequential\n",
    "from keras.layers import Dense, LSTM, Dropout\n",
    "from keras.preprocessing.sequence import TimeseriesGenerator\n",
    "\n",
    "seq_len = 100 # Length of autocorrelation from plot above\n",
    "\n",
    "N = train_y.shape[0]\n",
    "split = int(N - N/4)\n",
    "sc = StandardScaler() # Scale output variable to make convergence faster. Remember to reverse this at the end!\n",
    "new_train_y = train_y[:split]\n",
    "new_train_y = sc.fit_transform(new_train_y[:, np.newaxis])[:,0]\n",
    "sub_val_y = train_y[split:]\n",
    "sub_val_y = sc.transform(sub_val_y[:, np.newaxis])[:, 0]\n"
   ]
  },
  {
   "cell_type": "markdown",
   "metadata": {},
   "source": [
    "#### Convert target variable into a format suitable for LSTM"
   ]
  },
  {
   "cell_type": "code",
   "execution_count": null,
   "metadata": {},
   "outputs": [],
   "source": [
    "train_data = TimeseriesGenerator(new_train_y[:, np.newaxis], new_train_y,\n",
    "                               length=seq_len, sampling_rate=1,\n",
    "                               batch_size=20)\n",
    "\n",
    "sub_val_data = TimeseriesGenerator(sub_val_y[:, np.newaxis], sub_val_y,\n",
    "                               length=seq_len, sampling_rate=1,\n",
    "                               batch_size=20)\n",
    "\n",
    "val_data = TimeseriesGenerator(val_y[:, np.newaxis], val_y,\n",
    "                               length=seq_len, sampling_rate=1,\n",
    "                               batch_size=20)\n"
   ]
  },
  {
   "cell_type": "markdown",
   "metadata": {},
   "source": [
    "#### Very simple LSTM. Can be improved by adding additional LSTM cells and dropout layers"
   ]
  },
  {
   "cell_type": "code",
   "execution_count": null,
   "metadata": {},
   "outputs": [],
   "source": [
    "neurons = 20\n",
    "n_input=seq_len\n",
    "n_features = 1\n",
    "model = Sequential()\n",
    "model.add(LSTM(neurons, input_shape=(n_input, n_features)))\n",
    "model.add(Dense(1))\n",
    "model.compile(loss='mean_squared_error', optimizer='adam')\n",
    "\n",
    "\n",
    "history = model.fit_generator(train_data, epochs=5, validation_data=sub_val_data, verbose=1)\n",
    "\n"
   ]
  },
  {
   "cell_type": "code",
   "execution_count": null,
   "metadata": {},
   "outputs": [],
   "source": [
    "preds = []\n",
    "fdata = sub_val_y[-seq_len:]\n",
    "for i in range(val_y.shape[0]):\n",
    "    pred = model.predict(fdata.reshape((1, seq_len, 1)))\n",
    "    preds.append(pred[0][0])\n",
    "    fdata = np.roll(fdata, -1)\n",
    "    fdata[-1] = pred\n",
    "\n",
    "val_pred = np.asarray(preds)\n",
    "val_pred = sc.inverse_transform(val_pred.reshape(-1,1))\n",
    "mean_squared_error(val_y, val_pred)"
   ]
  },
  {
   "cell_type": "code",
   "execution_count": null,
   "metadata": {},
   "outputs": [],
   "source": [
    "plot(val_y)\n",
    "plot(val_pred)\n",
    "\n",
    "_ = legend(['actual', 'prediction'])"
   ]
  },
  {
   "cell_type": "markdown",
   "metadata": {},
   "source": [
    "#### Better than the naive model, but not really picking up seasonality or trend. May need more layers and more training"
   ]
  },
  {
   "cell_type": "markdown",
   "metadata": {},
   "source": [
    "# Test the best model on the test dataset"
   ]
  },
  {
   "cell_type": "markdown",
   "metadata": {},
   "source": [
    "#### Finally, test the model we have chosen on an unseen set of data. Hopefully the model will generalise well"
   ]
  },
  {
   "cell_type": "code",
   "execution_count": null,
   "metadata": {},
   "outputs": [],
   "source": [
    "test_pred = trend_model.predict(test_X)\n",
    "mean_squared_error(test_y, test_pred)"
   ]
  },
  {
   "cell_type": "code",
   "execution_count": null,
   "metadata": {},
   "outputs": [],
   "source": [
    "plot(test_y)\n",
    "plot(test_pred)"
   ]
  }
 ],
 "metadata": {
  "kernelspec": {
   "display_name": "Python 3",
   "language": "python",
   "name": "python3"
  },
  "language_info": {
   "codemirror_mode": {
    "name": "ipython",
    "version": 3
   },
   "file_extension": ".py",
   "mimetype": "text/x-python",
   "name": "python",
   "nbconvert_exporter": "python",
   "pygments_lexer": "ipython3",
   "version": "3.6.13"
  }
 },
 "nbformat": 4,
 "nbformat_minor": 2
}
