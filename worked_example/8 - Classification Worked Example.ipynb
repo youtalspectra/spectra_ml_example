{
 "cells": [
  {
   "cell_type": "code",
   "execution_count": null,
   "metadata": {},
   "outputs": [],
   "source": [
    "!pip install keras"
   ]
  },
  {
   "cell_type": "code",
   "execution_count": null,
   "metadata": {},
   "outputs": [],
   "source": [
    "%pylab inline"
   ]
  },
  {
   "cell_type": "code",
   "execution_count": null,
   "metadata": {},
   "outputs": [],
   "source": [
    "import pandas as pd\n",
    "import numpy as np\n",
    "import datetime as dt\n",
    "from sklearn.model_selection import cross_val_score, StratifiedKFold, GridSearchCV\n",
    "from sklearn.metrics import confusion_matrix, make_scorer, f1_score\n",
    "from sklearn.dummy import DummyClassifier\n",
    "from sklearn.svm import LinearSVC, SVC\n",
    "from sklearn.ensemble import RandomForestClassifier\n",
    "from sklearn.neural_network import MLPClassifier\n",
    "from sklearn.pipeline import Pipeline\n",
    "from sklearn.preprocessing import StandardScaler, PolynomialFeatures\n",
    "import seaborn\n",
    "np.random.seed(12345)"
   ]
  },
  {
   "cell_type": "code",
   "execution_count": null,
   "metadata": {},
   "outputs": [],
   "source": [
    "seaborn.set_context('talk')\n",
    "seaborn.set_style('white')"
   ]
  },
  {
   "cell_type": "markdown",
   "metadata": {},
   "source": [
    "# Load Dataset"
   ]
  },
  {
   "cell_type": "markdown",
   "metadata": {},
   "source": [
    "#### Load some example data and take a look at it"
   ]
  },
  {
   "cell_type": "code",
   "execution_count": null,
   "metadata": {},
   "outputs": [],
   "source": [
    "data = pd.read_csv(\"https://raw.githubusercontent.com/danybol/gft_ml_example/master/worked_example/classification.csv\")"
   ]
  },
  {
   "cell_type": "code",
   "execution_count": null,
   "metadata": {},
   "outputs": [],
   "source": [
    "data.head()"
   ]
  },
  {
   "cell_type": "code",
   "execution_count": null,
   "metadata": {},
   "outputs": [],
   "source": [
    "y = data['y'].values\n",
    "X = data.drop(['y'], axis=1).values"
   ]
  },
  {
   "cell_type": "code",
   "execution_count": null,
   "metadata": {},
   "outputs": [],
   "source": [
    "scatter(X[:, 0], X[:, 1], c=y, cmap=cm.Accent)"
   ]
  },
  {
   "cell_type": "markdown",
   "metadata": {},
   "source": [
    "#### Seems to be a bit of a pattern, but quite noisy"
   ]
  },
  {
   "cell_type": "markdown",
   "metadata": {},
   "source": [
    "## Split into train and test"
   ]
  },
  {
   "cell_type": "code",
   "execution_count": null,
   "metadata": {},
   "outputs": [],
   "source": [
    "def train_test_split(X, y):\n",
    "    N = X.shape[0]\n",
    "    split_size = int(N/5)\n",
    "    split = int(N - 2*split_size)\n",
    "    train_X = X[:split]\n",
    "    train_y = y[:split]\n",
    "    val_X = X[split:split+split_size]\n",
    "    val_y = y[split:split+split_size]\n",
    "    test_X = X[split+split_size:]\n",
    "    test_y = y[split+split_size:]\n",
    "    \n",
    "    return train_X, train_y, val_X, val_y, test_X, test_y"
   ]
  },
  {
   "cell_type": "code",
   "execution_count": null,
   "metadata": {},
   "outputs": [],
   "source": [
    "train_X, train_y, val_X, val_y, test_X, test_y = train_test_split(X, y)"
   ]
  },
  {
   "cell_type": "markdown",
   "metadata": {},
   "source": [
    "### Set up framework for testing models"
   ]
  },
  {
   "cell_type": "code",
   "execution_count": null,
   "metadata": {},
   "outputs": [],
   "source": [
    "def test_model(model, params, train_X, train_y, test_X, test_y):\n",
    "    scorer = make_scorer(f1_score, greater_is_better=True) # Use f1 as score\n",
    "    gs = GridSearchCV(model, params, scoring=scorer, cv=StratifiedKFold(n_splits=5)) # Cross-validation to pick best hyperparameter\n",
    "    gs.fit(train_X, train_y)\n",
    "    gs.best_estimator_.fit(train_X, train_y)\n",
    "    train_pred = gs.best_estimator_.predict(train_X) # Make prediction on training set\n",
    "    test_pred = gs.best_estimator_.predict(test_X) # Make prediction on test set\n",
    "    print(\"Training F1 Score: \", f1_score(train_y, train_pred))\n",
    "    print(\"Test F1 Score: \", f1_score(test_y, test_pred))\n",
    "    return gs.best_estimator_"
   ]
  },
  {
   "cell_type": "markdown",
   "metadata": {},
   "source": [
    "#### Scikit-learn pipelines are a good way of keeping code clean. They let you easily swap out models and preprocessing steps"
   ]
  },
  {
   "cell_type": "code",
   "execution_count": null,
   "metadata": {},
   "outputs": [],
   "source": [
    "model = Pipeline([('features', None),\n",
    "                  ('preprocess', None),\n",
    "                  ('model', None)])\n",
    "\n"
   ]
  },
  {
   "cell_type": "markdown",
   "metadata": {},
   "source": [
    "### Try out different models"
   ]
  },
  {
   "cell_type": "markdown",
   "metadata": {},
   "source": [
    "#### Dummy classifier as a baseline"
   ]
  },
  {
   "cell_type": "code",
   "execution_count": null,
   "metadata": {},
   "outputs": [],
   "source": [
    "params = dict(model=[DummyClassifier()], features=[None], preprocess=[None])\n",
    "simple_model = test_model(model, params, train_X, train_y, val_X, val_y)\n",
    "val_pred = simple_model.predict(val_X)"
   ]
  },
  {
   "cell_type": "code",
   "execution_count": null,
   "metadata": {},
   "outputs": [],
   "source": [
    "scatter(val_X[val_pred==1, 0], val_X[val_pred==1, 1], marker='x', c='r', s=200)\n",
    "scatter(val_X[:, 0], val_X[:, 1], c=val_y, cmap=cm.Accent)\n"
   ]
  },
  {
   "cell_type": "markdown",
   "metadata": {},
   "source": [
    "#### Points are randomly labelled, so this is what we have to beat"
   ]
  },
  {
   "cell_type": "markdown",
   "metadata": {},
   "source": [
    "#### Let's see how a linear model does"
   ]
  },
  {
   "cell_type": "code",
   "execution_count": null,
   "metadata": {},
   "outputs": [],
   "source": [
    "params = dict(model=[LinearSVC(class_weight='balanced')], model__C=np.logspace(0, 3, num=10), features=[None], preprocess=[None])\n",
    "simple_model = test_model(model, params, train_X, train_y, val_X, val_y)\n",
    "val_pred = simple_model.predict(val_X)"
   ]
  },
  {
   "cell_type": "code",
   "execution_count": null,
   "metadata": {},
   "outputs": [],
   "source": [
    "scatter(val_X[val_pred==1, 0], val_X[val_pred==1, 1], marker='x', c='r', s=200)\n",
    "scatter(val_X[:, 0], val_X[:, 1], c=val_y, cmap=cm.Accent)\n"
   ]
  },
  {
   "cell_type": "markdown",
   "metadata": {},
   "source": [
    "#### A lot better than random, but still making mistakes. Can see the clear linear boundary"
   ]
  },
  {
   "cell_type": "markdown",
   "metadata": {},
   "source": [
    "#### Let's see if a nonlinear model is better"
   ]
  },
  {
   "cell_type": "code",
   "execution_count": null,
   "metadata": {},
   "outputs": [],
   "source": [
    "params = dict(model=[SVC(kernel='rbf', class_weight='balanced', gamma='auto')], model__C=np.logspace(-1, 3, num=10), features=[None], preprocess=[None])\n",
    "simple_model = test_model(model, params, train_X, train_y, val_X, val_y)\n",
    "val_pred = simple_model.predict(val_X)\n"
   ]
  },
  {
   "cell_type": "code",
   "execution_count": null,
   "metadata": {},
   "outputs": [],
   "source": [
    "scatter(val_X[val_pred==1, 0], val_X[val_pred==1, 1], marker='x', c='r', s=200)\n",
    "scatter(val_X[:, 0], val_X[:, 1], c=val_y, cmap=cm.Accent)\n"
   ]
  },
  {
   "cell_type": "markdown",
   "metadata": {},
   "source": [
    "#### Better, and we can see a nonlinear boundary"
   ]
  },
  {
   "cell_type": "markdown",
   "metadata": {},
   "source": [
    "#### Let's compare to a random forest"
   ]
  },
  {
   "cell_type": "code",
   "execution_count": null,
   "metadata": {},
   "outputs": [],
   "source": [
    "params = dict(model=[RandomForestClassifier(n_estimators=100)], features=[None], preprocess=[None])\n",
    "simple_model = test_model(model, params, train_X, train_y, val_X, val_y)\n",
    "val_pred = simple_model.predict(val_X)"
   ]
  },
  {
   "cell_type": "code",
   "execution_count": null,
   "metadata": {},
   "outputs": [],
   "source": [
    "scatter(val_X[val_pred==1, 0], val_X[val_pred==1, 1], marker='x', c='r', s=200)\n",
    "scatter(val_X[:, 0], val_X[:, 1], c=val_y, cmap=cm.Accent)\n"
   ]
  },
  {
   "cell_type": "markdown",
   "metadata": {},
   "source": [
    "#### Boundary is less clear"
   ]
  },
  {
   "cell_type": "markdown",
   "metadata": {},
   "source": [
    "### Try deep learning to avoid manual feature engineering"
   ]
  },
  {
   "cell_type": "code",
   "execution_count": null,
   "metadata": {},
   "outputs": [],
   "source": [
    "\n",
    "from keras import Sequential\n",
    "from keras.layers import Dense, Dropout\n",
    "from keras.preprocessing.sequence import TimeseriesGenerator\n",
    "\n",
    "seq_len = 100 # Length of autocorrelation from plot above\n",
    "\n",
    "N = train_y.shape[0]\n",
    "split = int(N - N/4)\n",
    "new_train_y = train_y[:split]\n",
    "sub_val_y = train_y[split:]\n"
   ]
  },
  {
   "cell_type": "markdown",
   "metadata": {},
   "source": [
    "#### Split out a smaller validation set from training data"
   ]
  },
  {
   "cell_type": "code",
   "execution_count": null,
   "metadata": {},
   "outputs": [],
   "source": [
    "neurons = 10\n",
    "n_input=seq_len\n",
    "n_features = 1\n",
    "dl_model = Sequential()\n",
    "dl_model.add(Dense(30, input_dim=train_X.shape[1], activation='relu'))\n",
    "dl_model.add(Dense(30, activation='relu'))\n",
    "dl_model.add(Dense(30, activation='relu'))\n",
    "dl_model.add(Dense(1, activation='sigmoid'))\n",
    "\n",
    "dl_model.compile(loss='binary_crossentropy', optimizer='rmsprop', metrics=['accuracy'])\n",
    "history = dl_model.fit(train_X, train_y, epochs=30, batch_size=10, validation_split=0.4, verbose=0)\n"
   ]
  },
  {
   "cell_type": "markdown",
   "metadata": {},
   "source": [
    "#### Show loss history. Should be going down"
   ]
  },
  {
   "cell_type": "code",
   "execution_count": null,
   "metadata": {},
   "outputs": [],
   "source": [
    "plot(history.history['val_loss'])"
   ]
  },
  {
   "cell_type": "code",
   "execution_count": null,
   "metadata": {},
   "outputs": [],
   "source": [
    "model_pred = (dl_model.predict(val_X) > 0.5).astype(\"int32\")[:, 0]"
   ]
  },
  {
   "cell_type": "code",
   "execution_count": null,
   "metadata": {},
   "outputs": [],
   "source": [
    "f1_score(val_y, model_pred)"
   ]
  },
  {
   "cell_type": "code",
   "execution_count": null,
   "metadata": {},
   "outputs": [],
   "source": [
    "scatter(val_X[val_pred==1, 0], val_X[val_pred==1, 1], marker='x', c='r', s=200)\n",
    "scatter(val_X[:, 0], val_X[:, 1], c=val_y, cmap=cm.Accent)\n"
   ]
  },
  {
   "cell_type": "markdown",
   "metadata": {},
   "source": [
    "#### It has captured the nonlinear boundary"
   ]
  },
  {
   "cell_type": "markdown",
   "metadata": {},
   "source": [
    "# Test the best model on the test dataset"
   ]
  },
  {
   "cell_type": "markdown",
   "metadata": {},
   "source": [
    "#### Finally, test the model we have chosen on an unseen set of data. Hopefully the model will generalise well"
   ]
  },
  {
   "cell_type": "code",
   "execution_count": null,
   "metadata": {},
   "outputs": [],
   "source": [
    "test_pred = (dl_model.predict(test_X) > 0.5).astype(\"int32\")\n",
    "f1_score(test_y, test_pred)"
   ]
  },
  {
   "cell_type": "code",
   "execution_count": null,
   "metadata": {},
   "outputs": [],
   "source": []
  }
 ],
 "metadata": {
  "kernelspec": {
   "display_name": "Python 3",
   "language": "python",
   "name": "python3"
  },
  "language_info": {
   "codemirror_mode": {
    "name": "ipython",
    "version": 3
   },
   "file_extension": ".py",
   "mimetype": "text/x-python",
   "name": "python",
   "nbconvert_exporter": "python",
   "pygments_lexer": "ipython3",
   "version": "3.6.13"
  }
 },
 "nbformat": 4,
 "nbformat_minor": 2
}
